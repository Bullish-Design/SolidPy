



Dim swApp As SldWorks.SldWorks
Dim swModel As SldWorks.ModelDoc2
Dim swDesignTable As SldWorks.DesignTable2
Dim FilePath As String
Dim FileName As String
Dim CSVPath As String

Set swApp = Application.SldWorks
Set swModel = swApp.ActiveDoc

If Not swModel Is Nothing Then
    Set swDesignTable = swModel.GetDesignTable2
    If Not swDesignTable Is Nothing Then
        FilePath = swModel.GetPathName
        FileName = swModel.GetTitle
        CSVPath = Left(FilePath, InStrRev(FilePath, "\")) & FileName & ".csv"
        swDesignTable.SaveAsText CSVPath, ","
    Else
        MsgBox "The active document does not contain a design table."
    End If
Else
    MsgBox "No active document."
End If


