{
 "cells": [
  {
   "attachments": {},
   "cell_type": "markdown",
   "metadata": {},
   "source": [
    "# Solidworks Template Generator\n",
    "Recognizes any named feature in a solidworks template part, and pulls any named dimensions from the feature and writes to CSV. Can then generate copies of the SW template part and CSV file as a new part or a new configuration under the template part."
   ]
  },
  {
   "cell_type": "code",
   "execution_count": null,
   "metadata": {},
   "outputs": [],
   "source": [
    "import os\n",
    "import csv\n",
    "\n",
    "# Input SW template file path:\n",
    "\n",
    "# Input New configuration/file name\n",
    "\n",
    "# Init solidworks \n",
    "\n",
    "# Open SW template file, ensure it opens to default configuration\n",
    "\n",
    "# Read all SW file Properties to a list\n",
    "\n",
    "# Read all SW file Custom Properties to a list\n",
    "\n",
    "# Read all SW file features to a list\n",
    "\n",
    "# Generate a \"named features\" list from the features list, using any feature with a non-standard name\n",
    "\n",
    "# For each feature in the \"named features\" list, get all named dimensions and build into a dictionary\n",
    "\n",
    "# Write all properties, custom properties, and named features + dimensions to individual csv files in a new folder\n",
    "\n",
    "# Save template sw file to new configuration/file name\n",
    "\n",
    "# Iterate over all csv files in the new folder, and write to new configuration/file name\n",
    "\n",
    "# Rebuild new configuration/file \n",
    "\n",
    "# Save new configuration/file\n",
    "\n",
    "# Generate a drawing of the new configuration/file\n",
    "\n",
    "# Update drawing views and notes\n",
    "\n",
    "# Save DRW file\n",
    "\n",
    "# Save drawing as PDF to CSV folder\n",
    "\n",
    "# Export DXFs of all panels/sheet metal parts and save to CSV folder\n",
    "\n"
   ]
  }
 ],
 "metadata": {},
 "nbformat": 4,
 "nbformat_minor": 2
}
