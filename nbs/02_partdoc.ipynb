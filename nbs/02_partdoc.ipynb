{
 "cells": [
  {
   "cell_type": "code",
   "execution_count": null,
   "metadata": {},
   "outputs": [],
   "source": [
    "#| default_exp partdoc"
   ]
  },
  {
   "cell_type": "code",
   "execution_count": null,
   "metadata": {},
   "outputs": [],
   "source": [
    "#| export\n",
    "from SolidPy.modeldoc import ModelDoc\n",
    "from SolidPy.interfaces.ipartdoc import IPartDoc\n",
    "\n",
    "\n",
    "class PartDoc(IPartDoc, ModelDoc):\n",
    "    def __init__(self, system_object):\n",
    "        self.system_object = system_object\n"
   ]
  }
 ],
 "metadata": {},
 "nbformat": 4,
 "nbformat_minor": 2
}
