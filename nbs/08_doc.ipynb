{
 "cells": [
  {
   "cell_type": "code",
   "execution_count": null,
   "metadata": {},
   "outputs": [],
   "source": [
    "#| default_exp doc"
   ]
  },
  {
   "cell_type": "code",
   "execution_count": null,
   "metadata": {},
   "outputs": [],
   "source": [
    "#| export\n",
    "from SolidPy.assemblydoc import AssemblyDoc\n",
    "from SolidPy.com import COM\n",
    "from SolidPy.drawingdoc import DrawingDoc\n",
    "from SolidPy.enums.enum_types import DocumentTypes\n",
    "from SolidPy.partdoc import PartDoc\n",
    "\n",
    "\n",
    "class Doc:\n",
    "    class __Doc:\n",
    "        def __init__(self, system_object=None):\n",
    "            self.system_object = system_object\n",
    "            del self\n",
    "\n",
    "        @property\n",
    "        def _instance(self):\n",
    "            if self.system_object is None:\n",
    "                self.system_object = COM(\"SldWorks.Application\").ActiveDoc\n",
    "            return self.system_object\n",
    "\n",
    "        @property\n",
    "        def _doc_type(self):\n",
    "            return self._instance.GetType\n",
    "\n",
    "        @property\n",
    "        def doc(self):\n",
    "            if self._doc_type == DocumentTypes.ASSEMBLY.value:\n",
    "                return AssemblyDoc(self._instance)\n",
    "            elif self._doc_type == DocumentTypes.PART.value:\n",
    "                return PartDoc(self._instance)\n",
    "            elif self._doc_type == DocumentTypes.DRAWING.value:\n",
    "                return DrawingDoc(self._instance)\n",
    "            else:\n",
    "                raise ValueError(self._doc_type)\n",
    "\n",
    "    def __new__(cls, system_object=None):\n",
    "        return cls.__Doc(system_object).doc\n"
   ]
  }
 ],
 "metadata": {},
 "nbformat": 4,
 "nbformat_minor": 2
}
