{
 "cells": [
  {
   "cell_type": "code",
   "execution_count": null,
   "metadata": {},
   "outputs": [],
   "source": [
    "from .component import Component\n",
    "from .modeldoc import ModelDoc\n",
    "from .interfaces.iassemblydoc import IAssemblyDoc\n",
    "\n",
    "\n",
    "class AssemblyDoc(IAssemblyDoc, ModelDoc):\n",
    "    def __init__(self, system_object):\n",
    "        super().__init__(system_object)\n",
    "\n",
    "    def get_components(self, top_level_only: bool = True):\n",
    "        return [\n",
    "            Component(system_object)\n",
    "            for system_object in self._get_components(top_level_only)\n",
    "        ]\n"
   ]
  }
 ],
 "metadata": {},
 "nbformat": 4,
 "nbformat_minor": 2
}
