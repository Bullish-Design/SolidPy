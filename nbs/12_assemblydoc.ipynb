{
 "cells": [
  {
   "cell_type": "code",
   "execution_count": null,
   "metadata": {},
   "outputs": [],
   "source": [
    "#| default_exp assemblydoc"
   ]
  },
  {
   "cell_type": "code",
   "execution_count": null,
   "metadata": {},
   "outputs": [],
   "source": [
    "#| export\n",
    "from SolidPy.component import Component\n",
    "from SolidPy.modeldoc import ModelDoc\n",
    "from SolidPy.interfaces.iassemblydoc import IAssemblyDoc\n",
    "\n",
    "\n",
    "class AssemblyDoc(IAssemblyDoc, ModelDoc):\n",
    "    def __init__(self, system_object):\n",
    "        super().__init__(system_object)\n",
    "\n",
    "    def get_components(self, top_level_only: bool = True):\n",
    "        return [\n",
    "            Component(system_object)\n",
    "            for system_object in self._get_components(top_level_only)\n",
    "        ]\n"
   ]
  }
 ],
 "metadata": {},
 "nbformat": 4,
 "nbformat_minor": 2
}
