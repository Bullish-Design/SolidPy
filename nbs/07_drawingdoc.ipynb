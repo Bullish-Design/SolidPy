{
 "cells": [
  {
   "cell_type": "code",
   "execution_count": null,
   "metadata": {},
   "outputs": [],
   "source": [
    "#| default_exp drawingdoc"
   ]
  },
  {
   "cell_type": "code",
   "execution_count": null,
   "metadata": {},
   "outputs": [],
   "source": [
    "#| export\n",
    "from SolidPy.modeldoc import ModelDoc\n",
    "from SolidPy.interfaces.idrawingdoc import IDrawingDoc\n",
    "\n",
    "\n",
    "class DrawingDoc(IDrawingDoc, ModelDoc):\n",
    "    def __init__(self, system_object):\n",
    "        super().__init__(system_object)\n"
   ]
  }
 ],
 "metadata": {},
 "nbformat": 4,
 "nbformat_minor": 2
}
