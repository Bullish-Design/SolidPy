{
 "cells": [
  {
   "cell_type": "code",
   "execution_count": null,
   "metadata": {},
   "outputs": [],
   "source": [
    "from .modeldoc import ModelDoc\n",
    "from .interfaces.idrawingdoc import IDrawingDoc\n",
    "\n",
    "\n",
    "class DrawingDoc(IDrawingDoc, ModelDoc):\n",
    "    def __init__(self, system_object):\n",
    "        super().__init__(system_object)\n"
   ]
  }
 ],
 "metadata": {},
 "nbformat": 4,
 "nbformat_minor": 2
}
