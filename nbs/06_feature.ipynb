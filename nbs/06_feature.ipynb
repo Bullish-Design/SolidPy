{
 "cells": [
  {
   "cell_type": "code",
   "execution_count": null,
   "metadata": {},
   "outputs": [],
   "source": [
    "from .interfaces.ifeature import IFeature\n",
    "\n",
    "\n",
    "class Feature(IFeature):\n",
    "    def __init__(self, system_object):\n",
    "        super().__init__(system_object)\n",
    "\n",
    "    def __repr__(self):\n",
    "        return f\"{self.__class__.__name__} <{self.name}> <{self.identity}>\"\n",
    "\n",
    "    def __str__(self):\n",
    "        return f\"{self.name}\"\n"
   ]
  }
 ],
 "metadata": {},
 "nbformat": 4,
 "nbformat_minor": 2
}
