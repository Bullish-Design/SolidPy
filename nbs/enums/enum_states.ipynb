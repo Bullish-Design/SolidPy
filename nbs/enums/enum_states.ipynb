{
 "cells": [
  {
   "cell_type": "code",
   "execution_count": null,
   "metadata": {},
   "outputs": [],
   "source": [
    "\"\"\"Contains enumerations for SolidWorks States.\"\"\"\n",
    "\n",
    "from enum import Enum\n",
    "\n",
    "\n",
    "class ComponentSuppressionState(Enum):\n",
    "    FULLY_LIGHTWEIGHT = 4  # Recursive\n",
    "    FULLY_RESOLVED = 2  # Recursive\n",
    "    INTERNAL_ID_MISMATCH = 5\n",
    "    LIGHTWEIGHT = 1\n",
    "    RESOLVED = 3\n",
    "    SUPPRESSED = 0\n"
   ]
  }
 ],
 "metadata": {},
 "nbformat": 4,
 "nbformat_minor": 2
}
