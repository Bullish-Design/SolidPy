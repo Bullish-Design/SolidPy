{
 "cells": [
  {
   "cell_type": "code",
   "execution_count": null,
   "metadata": {},
   "outputs": [],
   "source": [
    "\"\"\"Contains enumerations for SolidWorks Types.\"\"\"\n",
    "\n",
    "from enum import Enum\n",
    "\n",
    "\n",
    "class DocumentTypes(Enum):\n",
    "    ASSEMBLY = 2\n",
    "    DRAWING = 3\n",
    "    IMPORTED_ASSEMBLY = 7\n",
    "    IMPORTED_PART = 6\n",
    "    LAYOUT = 5\n",
    "    NONE = 0\n",
    "    PART = 1\n",
    "    SDM = 4\n",
    "\n",
    "\n",
    "class CustomInfoType(Enum):\n",
    "    DATE = 64\n",
    "    DOUBLE = 5\n",
    "    NUMBER = 3\n",
    "    TEXT = 30\n",
    "    UNKNOWN = 0\n",
    "    YES_OR_NO = 11\n"
   ]
  }
 ],
 "metadata": {},
 "nbformat": 4,
 "nbformat_minor": 2
}
