{
 "cells": [
  {
   "cell_type": "code",
   "execution_count": null,
   "metadata": {},
   "outputs": [],
   "source": [
    "\"\"\"Contains enumerations for SolidWorks Errors.\"\"\"\n",
    "\n",
    "from enum import Enum\n",
    "\n",
    "\n",
    "class FileSaveError(Enum):\n",
    "    FILE_LOCK_ERROR = 16\n",
    "    FILE_NAME_CONTAINS_AT_SIGN = 8\n",
    "    FILE_NAME_EMPTY = 4\n",
    "    FILE_SAVE_AS_BAD_EDRAWINGS_VERSION = 1024\n",
    "    FILE_SAVE_AS_DO_NOT_OVERWRITE = 128\n",
    "    FILE_SAVE_AS_INVALID_FILE_EXTENSION = 256\n",
    "    FILE_SAVE_AS_NO_SELECTION = 512\n",
    "    FILE_SAVE_AS_NOT_SUPPORTED = 4096\n",
    "    FILE_SAVE_FORMAT_NOT_AVAILABLE = 32\n",
    "    FILE_SAVE_REQUIRES_SAVING_REFERENCES = 8192\n",
    "    GENERIC_SAVE_ERROR = 1\n",
    "    READ_ONLY_SAVE_ERROR = 2\n",
    "\n",
    "\n",
    "class FileLoadError(Enum):\n",
    "    ADDIN_INTERUPT_ERROR = 1048576\n",
    "    FILE_NOT_FOUND_ERROR = 2\n",
    "    FILE_WITH_SAME_TITLE_ALREADY_OPEN = 65536\n",
    "    FUTURE_VERSION = 8192\n",
    "    GENERIC_ERROR = 1\n",
    "    INVALID_FILE_TYPE_ERROR = 1024\n",
    "    LIQUID_MACHINE_DOC = 131072\n",
    "    LOW_RESOURCES_ERROR = 262144\n",
    "    NO_DISPLAY_DATA = 524288\n"
   ]
  }
 ],
 "metadata": {},
 "nbformat": 4,
 "nbformat_minor": 2
}
