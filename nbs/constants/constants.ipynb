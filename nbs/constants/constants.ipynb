{
 "cells": [
  {
   "cell_type": "code",
   "execution_count": null,
   "metadata": {},
   "outputs": [],
   "source": [
    "#| default_exp constants"
   ]
  },
  {
   "cell_type": "code",
   "execution_count": null,
   "metadata": {},
   "outputs": [],
   "source": [
    "#| export\n",
    "import win32com.client\n",
    "import pythoncom\n",
    "\n",
    "swConst = win32com.client.gencache.EnsureModule(\n",
    "    \"{4687F359-55D0-4CD3-B6CF-2EB42C11F989}\", 0, 29, 0\n",
    ").constants  # sw2015\n",
    "swCmd = win32com.client.gencache.EnsureModule(\n",
    "    \"{0AC1DE9F-3FBC-4C25-868D-7D4E9139CCE0}\", 0, 29, 0\n",
    ").constants\n",
    "# # {83A33D31-27C5-11CE-BFD4-00400513BB57}\n",
    "arg1 = win32com.client.VARIANT(pythoncom.VT_DISPATCH, None)\n",
    "var1 = win32com.client.VARIANT(\n",
    "    pythoncom.VT_VARIANT | pythoncom.VT_BYREF, None\n",
    ")  # (pythoncom.VT_VARIANT | pythoncom.VT_NULL | pythoncom.VT_BYREF, None)\n",
    "varVals = win32com.client.VARIANT(pythoncom.VT_BYREF | pythoncom.VT_BSTR, -1)\n",
    "varBool = win32com.client.VARIANT(pythoncom.VT_BYREF | pythoncom.VT_BOOL, None)\n",
    "varNone = win32com.client.VARIANT(pythoncom.VT_EMPTY, None)\n",
    "Empty = win32com.client.VARIANT(pythoncom.VT_EMPTY, None)\n",
    "newDrw = win32com.client.VARIANT(pythoncom.VT_BYREF | pythoncom.VT_I4, -1)\n"
   ]
  }
 ],
 "metadata": {},
 "nbformat": 4,
 "nbformat_minor": 2
}
