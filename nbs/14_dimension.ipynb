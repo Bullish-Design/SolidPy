{
 "cells": [
  {
   "cell_type": "code",
   "execution_count": null,
   "metadata": {},
   "outputs": [],
   "source": [
    "#| default_exp dimension\n"
   ]
  },
  {
   "cell_type": "code",
   "execution_count": null,
   "metadata": {},
   "outputs": [],
   "source": [
    "#| export\n",
    "from SolidPy.constants.constants import *\n",
    "\n",
    "class Dimension:\n",
    "    def __init__(self, swModel, dimName, sketchName, units):\n",
    "        self.model = swModel\n",
    "        self.name = dimName\n",
    "        self.sketchName = sketchName\n",
    "        # self.dimType = dimType\n",
    "        # self.value = value\n",
    "        self.units = units\n",
    "\n",
    "    def get(self):\n",
    "        # gets the value of the dimension\n",
    "        fullDimName = self.name + \"@\" + self.sketchName + \"@\" + self.model.GetTitle\n",
    "        swDim = self.model.Parameter(fullDimName)\n",
    "        # swFeat = self.model.FeatureByName(self.sketchName)\n",
    "        vVal = swDim.GetSystemValue3(swConst.swThisConfiguration, Empty)\n",
    "        dimVal = convertUnits(vVal[0], self.units)\n",
    "        # swDispDim = swFeat.GetFirstDisplayDimension\n",
    "        # while swDispDim:\n",
    "        #     swDim = swDispDim.GetDimension2(Empty)\n",
    "        #     if swDim.Name == self.name:\n",
    "        #         vDimVals = swDim.GetValue3(swConst.swThisConfiguration, Empty)\n",
    "        #         return vDimVals[0]\n",
    "        #     swDispDim = swDispDim.GetNext\n",
    "        return dimVal\n",
    "\n",
    "    def set(self, value):\n",
    "        # sets the value of the dimension\n",
    "        fullDimName = self.name + \"@\" + self.sketchName + \"@\" + self.model.GetTitle\n",
    "        swDim = self.model.Parameter(fullDimName)\n",
    "        vVal = swDim.GetSystemValue3(swConst.swThisConfiguration, Empty)\n",
    "        dimension = convertUnits(value, self.units)\n",
    "        swDim.SetSystemValue3(dimension, swConst.swThisConfiguration, Empty)\n",
    "        # vVal = swDim.GetSystemValue3(swConst.swThisConfiguration, Empty)\n",
    "        # print(\"  Name: \" + swDim.Name + \"  |  Value: \" + str(vVal[0]))\n",
    "        return  # vVal[0]\n",
    "\n",
    "    pass\n",
    "\n",
    "\n",
    "\n"
   ]
  }
 ],
 "metadata": {},
 "nbformat": 4,
 "nbformat_minor": 2
}
