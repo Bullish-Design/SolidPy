{
 "cells": [
  {
   "cell_type": "code",
   "execution_count": null,
   "metadata": {},
   "outputs": [],
   "source": [
    "#| default_exp modeldocextension"
   ]
  },
  {
   "cell_type": "code",
   "execution_count": null,
   "metadata": {},
   "outputs": [],
   "source": [
    "#| export\n",
    "import win32com.client\n",
    "\n",
    "from SolidPy.interfaces.imodeldocextension import IModelDocExtension\n",
    "\n",
    "\n",
    "class ModelDocExtension(IModelDocExtension):\n",
    "    def __init__(self, parent):\n",
    "        super().__init__(parent)\n"
   ]
  }
 ],
 "metadata": {},
 "nbformat": 4,
 "nbformat_minor": 2
}
