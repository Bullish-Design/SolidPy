{
 "cells": [
  {
   "cell_type": "code",
   "execution_count": null,
   "metadata": {},
   "outputs": [],
   "source": [
    "#| default_exp component"
   ]
  },
  {
   "cell_type": "code",
   "execution_count": null,
   "metadata": {},
   "outputs": [],
   "source": [
    "#| export\n",
    "from SolidPy.interfaces.icomponent import IComponent\n",
    "\n",
    "\n",
    "class Component(IComponent):\n",
    "    def __init__(self, system_object):\n",
    "        super().__init__(system_object)\n",
    "\n",
    "    def __repr__(self):\n",
    "        return f\"{self.__class__.__name__} <{self.name}>\"\n",
    "\n",
    "    def __str__(self):\n",
    "        return self.name\n",
    "\n",
    "    def get_children(self):\n",
    "        return [\n",
    "            Component(system_object) for system_object in self._get_children()\n",
    "        ]\n",
    "\n",
    "    def get_parent(self):\n",
    "        return Component(self._get_parent())\n"
   ]
  }
 ],
 "metadata": {},
 "nbformat": 4,
 "nbformat_minor": 2
}
