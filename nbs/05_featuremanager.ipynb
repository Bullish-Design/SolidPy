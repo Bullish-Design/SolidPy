{
 "cells": [
  {
   "cell_type": "code",
   "execution_count": null,
   "metadata": {},
   "outputs": [],
   "source": [
    "#| default_exp featuremanager"
   ]
  },
  {
   "cell_type": "code",
   "execution_count": null,
   "metadata": {},
   "outputs": [],
   "source": [
    "#| export\n",
    "import win32com.client\n",
    "import pythoncom\n",
    "\n",
    "from SolidPy.interfaces.ifeaturemanager import IFeatureManager\n",
    "from SolidPy.feature import Feature\n",
    "\n",
    "\n",
    "class FeatureManager(IFeatureManager):\n",
    "    def __init__(self, parent):\n",
    "        super().__init__(parent)\n",
    "\n",
    "    def get_features(self, top_level_only=True):\n",
    "        return [\n",
    "            Feature(system_object)\n",
    "            for system_object in self._get_features(top_level_only)\n",
    "        ]\n"
   ]
  }
 ],
 "metadata": {},
 "nbformat": 4,
 "nbformat_minor": 2
}
