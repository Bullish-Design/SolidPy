{
 "cells": [
  {
   "cell_type": "code",
   "execution_count": null,
   "metadata": {},
   "outputs": [],
   "source": [
    "#| default_exp com"
   ]
  },
  {
   "cell_type": "code",
   "execution_count": null,
   "metadata": {},
   "outputs": [],
   "source": [
    "#| export\n",
    "import win32com.client\n",
    "import psutil\n",
    "\n",
    "class COM:\n",
    "    \"\"\"COM Interface singleton implementation\n",
    "\n",
    "    The purpose of this class is to ensure that all objects refer\n",
    "    to a common instance of the program being interacted with.\n",
    "\n",
    "    Program     | Prog ID\n",
    "    ----------- | -------\n",
    "    Solidworks  | SldWorks.Application\n",
    "    Excel       | Excel.Application\n",
    "\n",
    "    \"\"\"\n",
    "\n",
    "    class __COM:\n",
    "        def __init__(self, prog_id):\n",
    "            self.prog_id = prog_id\n",
    "            self.com = win32com.client.Dispatch(self.prog_id)\n",
    "\n",
    "    instance = None\n",
    "\n",
    "    # def process_exists(cls):\n",
    "    #     if \"SLDWORKS.exe\" not in [p.name() for p in psutil.process_iter()]:\n",
    "    #         cls.instance = None\n",
    "\n",
    "    def __new__(cls, prog_id):\n",
    "        if not cls.instance:\n",
    "            cls.instance = cls.__COM(prog_id).com\n",
    "        return cls.instance\n"
   ]
  }
 ],
 "metadata": {},
 "nbformat": 4,
 "nbformat_minor": 2
}
