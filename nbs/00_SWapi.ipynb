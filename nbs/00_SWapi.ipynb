{
 "cells": [
  {
   "attachments": {},
   "cell_type": "markdown",
   "metadata": {},
   "source": [
    "# SWapi\n",
    " > The top level access point. This module will mostly follow the COM pattern that the solidworks API uses. See here for a good reference on how the Solidworks API works: https://cadbooster.com/the-solidworks-object-model-api-explained-part-1/\n",
    "\n",
    " > This library is *heavily* inspired by the SWtoolkit library - https://github.com/Glutenberg/swtoolkit. They deserve all the credit for the initial work. I am just trying to use that as a jumping off point for my own personal use - mostly to enable rapid product development for highly configurable consumer goods. "
   ]
  },
  {
   "cell_type": "code",
   "execution_count": null,
   "metadata": {},
   "outputs": [],
   "source": [
    "#| default_exp SWapi"
   ]
  },
  {
   "cell_type": "code",
   "execution_count": null,
   "metadata": {},
   "outputs": [],
   "source": [
    "#| hide\n",
    "from nbdev.showdoc import *"
   ]
  },
  {
   "cell_type": "code",
   "execution_count": null,
   "metadata": {},
   "outputs": [],
   "source": [
    "#| export\n",
    "def foo(): pass"
   ]
  },
  {
   "cell_type": "code",
   "execution_count": null,
   "metadata": {},
   "outputs": [],
   "source": [
    "#| hide\n",
    "import nbdev; nbdev.nbdev_export()"
   ]
  }
 ],
 "metadata": {
  "kernelspec": {
   "display_name": "python3",
   "language": "python",
   "name": "python3"
  }
 },
 "nbformat": 4,
 "nbformat_minor": 4
}
