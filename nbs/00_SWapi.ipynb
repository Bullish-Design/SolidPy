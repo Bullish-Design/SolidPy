{
 "cells": [
  {
   "attachments": {},
   "cell_type": "markdown",
   "metadata": {},
   "source": [
    "# SWapi\n",
    " > The top level access point. This module will mostly follow the COM pattern that the solidworks API uses. See here for a good reference on how the Solidworks API works: https://cadbooster.com/the-solidworks-object-model-api-explained-part-1/\n",
    "\n",
    " > This library is *heavily* inspired by the SWtoolkit library - https://github.com/Glutenberg/swtoolkit. They deserve all the credit for the initial work. I am just trying to use that as a jumping off point for my own personal use - mostly to enable rapid product development for highly configurable consumer goods. "
   ]
  },
  {
   "cell_type": "code",
   "execution_count": null,
   "metadata": {},
   "outputs": [],
   "source": [
    "#| default_exp SWapi"
   ]
  },
  {
   "cell_type": "code",
   "execution_count": null,
   "metadata": {},
   "outputs": [],
   "source": [
    "#| hide\n",
    "from nbdev.showdoc import *\n",
    "import swtoolkit as swtk"
   ]
  },
  {
   "cell_type": "code",
   "execution_count": null,
   "metadata": {},
   "outputs": [
    {
     "name": "stdout",
     "output_type": "stream",
     "text": [
      "<class 'swtoolkit.api.partdoc.PartDoc'>\n"
     ]
    }
   ],
   "source": [
    "sw = swtk.SolidWorks()\n",
    "\n",
    "model = sw.get_model()\n",
    "\n",
    "print(type(model))"
   ]
  },
  {
   "cell_type": "code",
   "execution_count": null,
   "metadata": {},
   "outputs": [
    {
     "name": "stdout",
     "output_type": "stream",
     "text": [
      "<swtoolkit.api.featuremanager.FeatureManager object>\n",
      "  Comments - CommentsFolder\n",
      "  Favorites - FavoriteFolder\n",
      "  History - HistoryFolder\n",
      "  Selection Sets - SelectionSetFolder\n",
      "  Sensors - SensorFolder\n",
      "  Design Binder - DocsFolder\n",
      "  Annotations - DetailCabinet\n",
      "  Surface Bodies - SurfaceBodyFolder\n",
      "  Solid Bodies - SolidBodyFolder\n",
      "  Lights, Cameras and Scene - EnvFolder\n",
      "  Markups - InkMarkupFolder\n",
      "  Equations - EqnFolder\n",
      "  Material <not specified> - MaterialFolder\n",
      "  Front Plane - RefPlane\n",
      "  Top Plane - RefPlane\n",
      "  Right Plane - RefPlane\n",
      "  Origin - OriginProfileFeature\n",
      "  Panel_Thickness - RefPlane\n",
      "  Panel_Sketch - ProfileFeature\n",
      "  Panel_Template - Extrusion\n",
      "  Notes - NotesAreaFtrFolder\n",
      "  Notes1___EndTag___ - NotesAreaFtrFolder\n",
      "  Ambient - AmbientLight\n",
      "  Directional1 - DirectionLight\n",
      "  Directional2 - DirectionLight\n",
      "  Directional3 - DirectionLight\n"
     ]
    }
   ],
   "source": [
    "feats = model.feature_manager\n",
    "\n",
    "print(feats)\n",
    "\n",
    "feats.get_feature_count(False)\n",
    "\n",
    "feat_list = feats.get_features(False)\n",
    "\n",
    "for feat in feat_list:\n",
    "    print(f\"  {feat.name} - {feat.type_}\")"
   ]
  },
  {
   "cell_type": "code",
   "execution_count": null,
   "metadata": {},
   "outputs": [],
   "source": [
    "#| export\n",
    "# def foo(): pass"
   ]
  },
  {
   "cell_type": "code",
   "execution_count": null,
   "metadata": {},
   "outputs": [],
   "source": [
    "#| hide\n",
    "import nbdev; nbdev.nbdev_export()"
   ]
  }
 ],
 "metadata": {
  "kernelspec": {
   "display_name": "python3",
   "language": "python",
   "name": "python3"
  }
 },
 "nbformat": 4,
 "nbformat_minor": 4
}
